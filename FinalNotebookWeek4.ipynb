{
  "metadata": {
    "language_info": {
      "codemirror_mode": {
        "name": "python",
        "version": 3
      },
      "file_extension": ".py",
      "mimetype": "text/x-python",
      "name": "python",
      "nbconvert_exporter": "python",
      "pygments_lexer": "ipython3",
      "version": "3.8"
    },
    "kernelspec": {
      "name": "python",
      "display_name": "Pyolite",
      "language": "python"
    }
  },
  "nbformat_minor": 4,
  "nbformat": 4,
  "cells": [
    {
      "cell_type": "markdown",
      "source": "# My Jupyter Notebook on IBM Watson Studio",
      "metadata": {}
    },
    {
      "cell_type": "markdown",
      "source": "## **Bronson Housmans**\nBusiness Analyst",
      "metadata": {}
    },
    {
      "cell_type": "markdown",
      "source": "*Data Science interests me because the need to make decisions based on data is necessary for every industry and having the skills to be able to contribute to this would be a great opportunity*",
      "metadata": {}
    },
    {
      "cell_type": "markdown",
      "source": "### My code below is used to double an input number",
      "metadata": {}
    },
    {
      "cell_type": "code",
      "source": "def double_num(n):\n    return n * 2\nprint(double_num(45))",
      "metadata": {
        "trusted": true
      },
      "execution_count": 1,
      "outputs": [
        {
          "name": "stdout",
          "text": "90\n",
          "output_type": "stream"
        }
      ]
    },
    {
      "cell_type": "markdown",
      "source": "1. One\n2. Two\n3. Three\n\n- Big\n- Large\n- Massive\n\n|Header|Header1|\n|---| ---|\n|Column| |Column1|",
      "metadata": {}
    },
    {
      "cell_type": "code",
      "source": "",
      "metadata": {},
      "execution_count": null,
      "outputs": []
    }
  ]
}